{
 "cells": [
  {
   "cell_type": "markdown",
   "metadata": {},
   "source": [
    "# Library Imports"
   ]
  },
  {
   "cell_type": "code",
   "execution_count": 108,
   "metadata": {},
   "outputs": [],
   "source": [
    "import pandas as pd\n",
    "import numpy as np\n",
    "import matplotlib.pyplot as plt\n",
    "\n",
    "import statsmodels.api as sm\n",
    "from scipy import stats\n",
    "import itertools\n",
    "\n",
    "from sklearn.cluster import KMeans\n",
    "from sklearn.preprocessing import MinMaxScaler\n",
    "from sklearn.metrics import silhouette_samples, silhouette_score\n",
    "from sklearn.metrics import mean_squared_error\n",
    "\n",
    "import datetime\n",
    "import os\n",
    "import math\n",
    "import gc"
   ]
  },
  {
   "cell_type": "markdown",
   "metadata": {},
   "source": [
    "# Data Extraction Method"
   ]
  },
  {
   "cell_type": "code",
   "execution_count": 109,
   "metadata": {},
   "outputs": [],
   "source": [
    "def data_extraction(path):\n",
    "    \n",
    "    dataframe = pd.DataFrame()\n",
    "    \n",
    "    for i in os.listdir(path):\n",
    "        \n",
    "            df_temp = pd.read_csv(str(path) + \"\\\\\" + str(i)) # c:\\\\Users\\\\Shiva\\\\Documents\\\\TTU Mods\\\\PythonJ_ML_ProjectEnergyConsumptionForecast/acorn_details.csv\n",
    "            df_temp = df_temp[[\"LCLid\",\"day\",\"energy_sum\"]] # \n",
    "            df_temp.reset_index()\n",
    "            dataframe = dataframe.append(df_temp)\n",
    "    \n",
    "    return dataframe"
   ]
  },
  {
   "cell_type": "markdown",
   "metadata": {},
   "source": [
    "__Data Extraction__"
   ]
  },
  {
   "cell_type": "code",
   "execution_count": 110,
   "metadata": {},
   "outputs": [
    {
     "name": "stdout",
     "output_type": "stream",
     "text": [
      "c:\\Users\\Shiva\\Documents\\TTU Mods\\PythonJ_ML_ProjectEnergyConsumptionForecast\n",
      "c:\\Users\\Shiva\\Documents\\TTU Mods\\PythonJ_ML_ProjectEnergyConsumptionForecast\\daily_dataset\\daily_dataset\n"
     ]
    }
   ],
   "source": [
    "myCwd = os.getcwd()\n",
    "print(myCwd)\n",
    "myPath = os.path.join(myCwd, \"daily_dataset\")\n",
    "myPath = os.path.join(myPath,\"daily_dataset\")\n",
    "\n",
    "print(myPath)\n",
    "\n",
    "df = data_extraction(myPath)"
   ]
  },
  {
   "cell_type": "code",
   "execution_count": 111,
   "metadata": {},
   "outputs": [
    {
     "data": {
      "text/plain": [
       "(3510433, 3)"
      ]
     },
     "execution_count": 111,
     "metadata": {},
     "output_type": "execute_result"
    }
   ],
   "source": [
    "df.shape"
   ]
  },
  {
   "cell_type": "code",
   "execution_count": 112,
   "metadata": {},
   "outputs": [
    {
     "data": {
      "text/html": [
       "<div>\n",
       "<style scoped>\n",
       "    .dataframe tbody tr th:only-of-type {\n",
       "        vertical-align: middle;\n",
       "    }\n",
       "\n",
       "    .dataframe tbody tr th {\n",
       "        vertical-align: top;\n",
       "    }\n",
       "\n",
       "    .dataframe thead th {\n",
       "        text-align: right;\n",
       "    }\n",
       "</style>\n",
       "<table border=\"1\" class=\"dataframe\">\n",
       "  <thead>\n",
       "    <tr style=\"text-align: right;\">\n",
       "      <th></th>\n",
       "      <th>LCLid</th>\n",
       "      <th>day</th>\n",
       "      <th>energy_sum</th>\n",
       "    </tr>\n",
       "  </thead>\n",
       "  <tbody>\n",
       "    <tr>\n",
       "      <th>0</th>\n",
       "      <td>MAC000002</td>\n",
       "      <td>2012-10-12</td>\n",
       "      <td>7.098</td>\n",
       "    </tr>\n",
       "    <tr>\n",
       "      <th>1</th>\n",
       "      <td>MAC000002</td>\n",
       "      <td>2012-10-13</td>\n",
       "      <td>11.087</td>\n",
       "    </tr>\n",
       "    <tr>\n",
       "      <th>2</th>\n",
       "      <td>MAC000002</td>\n",
       "      <td>2012-10-14</td>\n",
       "      <td>13.223</td>\n",
       "    </tr>\n",
       "    <tr>\n",
       "      <th>3</th>\n",
       "      <td>MAC000002</td>\n",
       "      <td>2012-10-15</td>\n",
       "      <td>10.257</td>\n",
       "    </tr>\n",
       "    <tr>\n",
       "      <th>4</th>\n",
       "      <td>MAC000002</td>\n",
       "      <td>2012-10-16</td>\n",
       "      <td>9.769</td>\n",
       "    </tr>\n",
       "  </tbody>\n",
       "</table>\n",
       "</div>"
      ],
      "text/plain": [
       "       LCLid         day  energy_sum\n",
       "0  MAC000002  2012-10-12       7.098\n",
       "1  MAC000002  2012-10-13      11.087\n",
       "2  MAC000002  2012-10-14      13.223\n",
       "3  MAC000002  2012-10-15      10.257\n",
       "4  MAC000002  2012-10-16       9.769"
      ]
     },
     "execution_count": 112,
     "metadata": {},
     "output_type": "execute_result"
    }
   ],
   "source": [
    "df.head()"
   ]
  },
  {
   "cell_type": "code",
   "execution_count": 113,
   "metadata": {},
   "outputs": [
    {
     "data": {
      "text/plain": [
       "3510433"
      ]
     },
     "execution_count": 113,
     "metadata": {},
     "output_type": "execute_result"
    }
   ],
   "source": [
    "df.shape[0]"
   ]
  },
  {
   "cell_type": "code",
   "execution_count": 114,
   "metadata": {},
   "outputs": [
    {
     "data": {
      "text/plain": [
       "829"
      ]
     },
     "execution_count": 114,
     "metadata": {},
     "output_type": "execute_result"
    }
   ],
   "source": [
    "len(df.day.unique())"
   ]
  },
  {
   "cell_type": "markdown",
   "metadata": {},
   "source": [
    "__Energy per household per day__"
   ]
  },
  {
   "cell_type": "code",
   "execution_count": 115,
   "metadata": {},
   "outputs": [
    {
     "name": "stdout",
     "output_type": "stream",
     "text": [
      "           day    energy_sum  LCLid  energy_per_household\n",
      "0   2011-11-23     90.385000     13              6.952692\n",
      "1   2011-11-24    213.412000     25              8.536480\n",
      "2   2011-11-25    303.993000     32              9.499781\n",
      "3   2011-11-26    420.976000     41             10.267707\n",
      "4   2011-11-27    444.883001     41             10.850805\n",
      "..         ...           ...    ...                   ...\n",
      "824 2014-02-24  51994.547004   4994             10.411403\n",
      "825 2014-02-25  51423.508001   4995             10.294997\n",
      "826 2014-02-26  50943.305995   4993             10.202945\n",
      "827 2014-02-27  51678.185998   4990             10.356350\n",
      "828 2014-02-28   1042.266000   4987              0.208997\n",
      "\n",
      "[829 rows x 4 columns]\n"
     ]
    }
   ],
   "source": [
    "energy = df.groupby(\"day\")[[\"energy_sum\"]].sum()\n",
    "# print(energy)\n",
    "count_of_house = df.groupby(\"day\")[[\"LCLid\"]].nunique()\n",
    "# print(count_of_house)\n",
    "# print(len(count_of_house))\n",
    "\n",
    "df_energy = energy.merge(count_of_house, on=\"day\").reset_index()\n",
    "\n",
    "df_energy[\"energy_per_household\"] = df_energy[\"energy_sum\"] / df_energy[\"LCLid\"]\n",
    "df_energy[\"day\"] = pd.to_datetime(df_energy[\"day\"])\n",
    "print(df_energy)"
   ]
  },
  {
   "cell_type": "code",
   "execution_count": 116,
   "metadata": {},
   "outputs": [
    {
     "data": {
      "text/plain": [
       "80"
      ]
     },
     "execution_count": 116,
     "metadata": {},
     "output_type": "execute_result"
    }
   ],
   "source": [
    "gc.collect()"
   ]
  },
  {
   "cell_type": "markdown",
   "metadata": {},
   "source": [
    "Data Extraction for possible contributing factors to energy consumption"
   ]
  },
  {
   "cell_type": "code",
   "execution_count": 117,
   "metadata": {},
   "outputs": [],
   "source": [
    "weather_df = pd.read_csv(\"weather_daily_darksky.csv\")\n",
    "holiday_df = pd.read_csv(\"uk_bank_holidays.csv\")"
   ]
  },
  {
   "cell_type": "markdown",
   "metadata": {},
   "source": [
    "Data Selection"
   ]
  },
  {
   "cell_type": "code",
   "execution_count": 118,
   "metadata": {},
   "outputs": [],
   "source": [
    "weather_df = weather_df[[\"temperatureMax\",\n",
    "                         \"windBearing\",\n",
    "                         \"dewPoint\",\n",
    "                         \"cloudCover\",\n",
    "                         \"windSpeed\",\n",
    "                         \"pressure\",\n",
    "                         \"time\",\n",
    "                         \"humidity\"]]\n",
    "weather_df[\"time\"] = pd.to_datetime(weather_df[\"time\"])"
   ]
  },
  {
   "cell_type": "markdown",
   "metadata": {},
   "source": [
    "Data Cleanup"
   ]
  },
  {
   "cell_type": "code",
   "execution_count": 119,
   "metadata": {},
   "outputs": [
    {
     "data": {
      "text/plain": [
       "temperatureMax    0\n",
       "windBearing       0\n",
       "dewPoint          0\n",
       "cloudCover        1\n",
       "windSpeed         0\n",
       "pressure          0\n",
       "time              0\n",
       "humidity          0\n",
       "dtype: int64"
      ]
     },
     "execution_count": 119,
     "metadata": {},
     "output_type": "execute_result"
    }
   ],
   "source": [
    "weather_df.isna().sum()"
   ]
  },
  {
   "cell_type": "code",
   "execution_count": 120,
   "metadata": {},
   "outputs": [
    {
     "data": {
      "text/html": [
       "<div>\n",
       "<style scoped>\n",
       "    .dataframe tbody tr th:only-of-type {\n",
       "        vertical-align: middle;\n",
       "    }\n",
       "\n",
       "    .dataframe tbody tr th {\n",
       "        vertical-align: top;\n",
       "    }\n",
       "\n",
       "    .dataframe thead th {\n",
       "        text-align: right;\n",
       "    }\n",
       "</style>\n",
       "<table border=\"1\" class=\"dataframe\">\n",
       "  <thead>\n",
       "    <tr style=\"text-align: right;\">\n",
       "      <th></th>\n",
       "      <th>temperatureMax</th>\n",
       "      <th>windBearing</th>\n",
       "      <th>dewPoint</th>\n",
       "      <th>cloudCover</th>\n",
       "      <th>windSpeed</th>\n",
       "      <th>pressure</th>\n",
       "      <th>time</th>\n",
       "      <th>humidity</th>\n",
       "    </tr>\n",
       "  </thead>\n",
       "  <tbody>\n",
       "    <tr>\n",
       "      <th>846</th>\n",
       "      <td>11.34</td>\n",
       "      <td>187</td>\n",
       "      <td>6.78</td>\n",
       "      <td>NaN</td>\n",
       "      <td>7.2</td>\n",
       "      <td>993.32</td>\n",
       "      <td>2014-01-01</td>\n",
       "      <td>0.86</td>\n",
       "    </tr>\n",
       "  </tbody>\n",
       "</table>\n",
       "</div>"
      ],
      "text/plain": [
       "     temperatureMax  windBearing  dewPoint  cloudCover  windSpeed  pressure  \\\n",
       "846           11.34          187      6.78         NaN        7.2    993.32   \n",
       "\n",
       "          time  humidity  \n",
       "846 2014-01-01      0.86  "
      ]
     },
     "execution_count": 120,
     "metadata": {},
     "output_type": "execute_result"
    }
   ],
   "source": [
    "row_with_NaN = weather_df.isna().any(axis = 1)\n",
    "row_with_NaN\n",
    "col_with_NaN = weather_df.isna().any(axis = 0)\n",
    "col_with_NaN\n",
    "\n",
    "checkRow = weather_df[row_with_NaN]\n",
    "checkRow"
   ]
  },
  {
   "cell_type": "code",
   "execution_count": 121,
   "metadata": {},
   "outputs": [
    {
     "data": {
      "text/plain": [
       "temperatureMax    0\n",
       "windBearing       0\n",
       "dewPoint          0\n",
       "cloudCover        0\n",
       "windSpeed         0\n",
       "pressure          0\n",
       "time              0\n",
       "humidity          0\n",
       "dtype: int64"
      ]
     },
     "execution_count": 121,
     "metadata": {},
     "output_type": "execute_result"
    }
   ],
   "source": [
    "weather_df.dropna(inplace=True)\n",
    "weather_df.isna().sum()"
   ]
  },
  {
   "cell_type": "code",
   "execution_count": 122,
   "metadata": {},
   "outputs": [
    {
     "data": {
      "text/html": [
       "<div>\n",
       "<style scoped>\n",
       "    .dataframe tbody tr th:only-of-type {\n",
       "        vertical-align: middle;\n",
       "    }\n",
       "\n",
       "    .dataframe tbody tr th {\n",
       "        vertical-align: top;\n",
       "    }\n",
       "\n",
       "    .dataframe thead th {\n",
       "        text-align: right;\n",
       "    }\n",
       "</style>\n",
       "<table border=\"1\" class=\"dataframe\">\n",
       "  <thead>\n",
       "    <tr style=\"text-align: right;\">\n",
       "      <th></th>\n",
       "      <th>temperatureMax</th>\n",
       "      <th>windBearing</th>\n",
       "      <th>dewPoint</th>\n",
       "      <th>cloudCover</th>\n",
       "      <th>windSpeed</th>\n",
       "      <th>pressure</th>\n",
       "      <th>time</th>\n",
       "      <th>humidity</th>\n",
       "    </tr>\n",
       "  </thead>\n",
       "  <tbody>\n",
       "    <tr>\n",
       "      <th>0</th>\n",
       "      <td>11.96</td>\n",
       "      <td>123</td>\n",
       "      <td>9.40</td>\n",
       "      <td>0.79</td>\n",
       "      <td>3.88</td>\n",
       "      <td>1016.08</td>\n",
       "      <td>2011-11-11</td>\n",
       "      <td>0.95</td>\n",
       "    </tr>\n",
       "    <tr>\n",
       "      <th>1</th>\n",
       "      <td>8.59</td>\n",
       "      <td>198</td>\n",
       "      <td>4.49</td>\n",
       "      <td>0.56</td>\n",
       "      <td>3.94</td>\n",
       "      <td>1007.71</td>\n",
       "      <td>2011-12-11</td>\n",
       "      <td>0.88</td>\n",
       "    </tr>\n",
       "    <tr>\n",
       "      <th>2</th>\n",
       "      <td>10.33</td>\n",
       "      <td>225</td>\n",
       "      <td>5.47</td>\n",
       "      <td>0.85</td>\n",
       "      <td>3.54</td>\n",
       "      <td>1032.76</td>\n",
       "      <td>2011-12-27</td>\n",
       "      <td>0.74</td>\n",
       "    </tr>\n",
       "    <tr>\n",
       "      <th>3</th>\n",
       "      <td>8.07</td>\n",
       "      <td>232</td>\n",
       "      <td>3.69</td>\n",
       "      <td>0.32</td>\n",
       "      <td>3.00</td>\n",
       "      <td>1012.12</td>\n",
       "      <td>2011-12-02</td>\n",
       "      <td>0.87</td>\n",
       "    </tr>\n",
       "    <tr>\n",
       "      <th>4</th>\n",
       "      <td>8.22</td>\n",
       "      <td>252</td>\n",
       "      <td>2.79</td>\n",
       "      <td>0.37</td>\n",
       "      <td>4.46</td>\n",
       "      <td>1028.17</td>\n",
       "      <td>2011-12-24</td>\n",
       "      <td>0.80</td>\n",
       "    </tr>\n",
       "    <tr>\n",
       "      <th>...</th>\n",
       "      <td>...</td>\n",
       "      <td>...</td>\n",
       "      <td>...</td>\n",
       "      <td>...</td>\n",
       "      <td>...</td>\n",
       "      <td>...</td>\n",
       "      <td>...</td>\n",
       "      <td>...</td>\n",
       "    </tr>\n",
       "    <tr>\n",
       "      <th>877</th>\n",
       "      <td>9.03</td>\n",
       "      <td>233</td>\n",
       "      <td>2.39</td>\n",
       "      <td>0.40</td>\n",
       "      <td>4.55</td>\n",
       "      <td>1002.10</td>\n",
       "      <td>2014-01-26</td>\n",
       "      <td>0.79</td>\n",
       "    </tr>\n",
       "    <tr>\n",
       "      <th>878</th>\n",
       "      <td>10.31</td>\n",
       "      <td>224</td>\n",
       "      <td>3.08</td>\n",
       "      <td>0.32</td>\n",
       "      <td>4.14</td>\n",
       "      <td>1007.02</td>\n",
       "      <td>2014-02-27</td>\n",
       "      <td>0.74</td>\n",
       "    </tr>\n",
       "    <tr>\n",
       "      <th>879</th>\n",
       "      <td>18.97</td>\n",
       "      <td>172</td>\n",
       "      <td>4.30</td>\n",
       "      <td>0.04</td>\n",
       "      <td>2.78</td>\n",
       "      <td>1022.44</td>\n",
       "      <td>2014-03-09</td>\n",
       "      <td>0.58</td>\n",
       "    </tr>\n",
       "    <tr>\n",
       "      <th>880</th>\n",
       "      <td>8.83</td>\n",
       "      <td>210</td>\n",
       "      <td>1.94</td>\n",
       "      <td>0.59</td>\n",
       "      <td>7.24</td>\n",
       "      <td>994.27</td>\n",
       "      <td>2014-02-12</td>\n",
       "      <td>0.75</td>\n",
       "    </tr>\n",
       "    <tr>\n",
       "      <th>881</th>\n",
       "      <td>9.90</td>\n",
       "      <td>233</td>\n",
       "      <td>2.95</td>\n",
       "      <td>0.35</td>\n",
       "      <td>9.96</td>\n",
       "      <td>988.63</td>\n",
       "      <td>2014-02-15</td>\n",
       "      <td>0.69</td>\n",
       "    </tr>\n",
       "  </tbody>\n",
       "</table>\n",
       "<p>881 rows × 8 columns</p>\n",
       "</div>"
      ],
      "text/plain": [
       "     temperatureMax  windBearing  dewPoint  cloudCover  windSpeed  pressure  \\\n",
       "0             11.96          123      9.40        0.79       3.88   1016.08   \n",
       "1              8.59          198      4.49        0.56       3.94   1007.71   \n",
       "2             10.33          225      5.47        0.85       3.54   1032.76   \n",
       "3              8.07          232      3.69        0.32       3.00   1012.12   \n",
       "4              8.22          252      2.79        0.37       4.46   1028.17   \n",
       "..              ...          ...       ...         ...        ...       ...   \n",
       "877            9.03          233      2.39        0.40       4.55   1002.10   \n",
       "878           10.31          224      3.08        0.32       4.14   1007.02   \n",
       "879           18.97          172      4.30        0.04       2.78   1022.44   \n",
       "880            8.83          210      1.94        0.59       7.24    994.27   \n",
       "881            9.90          233      2.95        0.35       9.96    988.63   \n",
       "\n",
       "          time  humidity  \n",
       "0   2011-11-11      0.95  \n",
       "1   2011-12-11      0.88  \n",
       "2   2011-12-27      0.74  \n",
       "3   2011-12-02      0.87  \n",
       "4   2011-12-24      0.80  \n",
       "..         ...       ...  \n",
       "877 2014-01-26      0.79  \n",
       "878 2014-02-27      0.74  \n",
       "879 2014-03-09      0.58  \n",
       "880 2014-02-12      0.75  \n",
       "881 2014-02-15      0.69  \n",
       "\n",
       "[881 rows x 8 columns]"
      ]
     },
     "execution_count": 122,
     "metadata": {},
     "output_type": "execute_result"
    }
   ],
   "source": [
    "weather_df"
   ]
  },
  {
   "cell_type": "code",
   "execution_count": 123,
   "metadata": {},
   "outputs": [
    {
     "data": {
      "text/html": [
       "<div>\n",
       "<style scoped>\n",
       "    .dataframe tbody tr th:only-of-type {\n",
       "        vertical-align: middle;\n",
       "    }\n",
       "\n",
       "    .dataframe tbody tr th {\n",
       "        vertical-align: top;\n",
       "    }\n",
       "\n",
       "    .dataframe thead th {\n",
       "        text-align: right;\n",
       "    }\n",
       "</style>\n",
       "<table border=\"1\" class=\"dataframe\">\n",
       "  <thead>\n",
       "    <tr style=\"text-align: right;\">\n",
       "      <th></th>\n",
       "      <th>temperatureMax</th>\n",
       "      <th>windBearing</th>\n",
       "      <th>dewPoint</th>\n",
       "      <th>cloudCover</th>\n",
       "      <th>windSpeed</th>\n",
       "      <th>pressure</th>\n",
       "      <th>humidity</th>\n",
       "    </tr>\n",
       "  </thead>\n",
       "  <tbody>\n",
       "    <tr>\n",
       "      <th>temperatureMax</th>\n",
       "      <td>1.000000</td>\n",
       "      <td>0.066226</td>\n",
       "      <td>0.854893</td>\n",
       "      <td>-0.332584</td>\n",
       "      <td>-0.147009</td>\n",
       "      <td>0.122966</td>\n",
       "      <td>-0.399969</td>\n",
       "    </tr>\n",
       "    <tr>\n",
       "      <th>windBearing</th>\n",
       "      <td>0.066226</td>\n",
       "      <td>1.000000</td>\n",
       "      <td>0.087704</td>\n",
       "      <td>-0.083740</td>\n",
       "      <td>0.078558</td>\n",
       "      <td>-0.030625</td>\n",
       "      <td>0.001558</td>\n",
       "    </tr>\n",
       "    <tr>\n",
       "      <th>dewPoint</th>\n",
       "      <td>0.854893</td>\n",
       "      <td>0.087704</td>\n",
       "      <td>1.000000</td>\n",
       "      <td>-0.003382</td>\n",
       "      <td>-0.090370</td>\n",
       "      <td>-0.026797</td>\n",
       "      <td>0.079938</td>\n",
       "    </tr>\n",
       "    <tr>\n",
       "      <th>cloudCover</th>\n",
       "      <td>-0.332584</td>\n",
       "      <td>-0.083740</td>\n",
       "      <td>-0.003382</td>\n",
       "      <td>1.000000</td>\n",
       "      <td>0.165238</td>\n",
       "      <td>-0.101524</td>\n",
       "      <td>0.492810</td>\n",
       "    </tr>\n",
       "    <tr>\n",
       "      <th>windSpeed</th>\n",
       "      <td>-0.147009</td>\n",
       "      <td>0.078558</td>\n",
       "      <td>-0.090370</td>\n",
       "      <td>0.165238</td>\n",
       "      <td>1.000000</td>\n",
       "      <td>-0.333642</td>\n",
       "      <td>-0.056839</td>\n",
       "    </tr>\n",
       "    <tr>\n",
       "      <th>pressure</th>\n",
       "      <td>0.122966</td>\n",
       "      <td>-0.030625</td>\n",
       "      <td>-0.026797</td>\n",
       "      <td>-0.101524</td>\n",
       "      <td>-0.333642</td>\n",
       "      <td>1.000000</td>\n",
       "      <td>-0.240828</td>\n",
       "    </tr>\n",
       "    <tr>\n",
       "      <th>humidity</th>\n",
       "      <td>-0.399969</td>\n",
       "      <td>0.001558</td>\n",
       "      <td>0.079938</td>\n",
       "      <td>0.492810</td>\n",
       "      <td>-0.056839</td>\n",
       "      <td>-0.240828</td>\n",
       "      <td>1.000000</td>\n",
       "    </tr>\n",
       "  </tbody>\n",
       "</table>\n",
       "</div>"
      ],
      "text/plain": [
       "                temperatureMax  windBearing  dewPoint  cloudCover  windSpeed  \\\n",
       "temperatureMax        1.000000     0.066226  0.854893   -0.332584  -0.147009   \n",
       "windBearing           0.066226     1.000000  0.087704   -0.083740   0.078558   \n",
       "dewPoint              0.854893     0.087704  1.000000   -0.003382  -0.090370   \n",
       "cloudCover           -0.332584    -0.083740 -0.003382    1.000000   0.165238   \n",
       "windSpeed            -0.147009     0.078558 -0.090370    0.165238   1.000000   \n",
       "pressure              0.122966    -0.030625 -0.026797   -0.101524  -0.333642   \n",
       "humidity             -0.399969     0.001558  0.079938    0.492810  -0.056839   \n",
       "\n",
       "                pressure  humidity  \n",
       "temperatureMax  0.122966 -0.399969  \n",
       "windBearing    -0.030625  0.001558  \n",
       "dewPoint       -0.026797  0.079938  \n",
       "cloudCover     -0.101524  0.492810  \n",
       "windSpeed      -0.333642 -0.056839  \n",
       "pressure        1.000000 -0.240828  \n",
       "humidity       -0.240828  1.000000  "
      ]
     },
     "execution_count": 123,
     "metadata": {},
     "output_type": "execute_result"
    }
   ],
   "source": [
    "weather_df.corr() # Treat correlation as gradient\n",
    "# Just choose 3 most correlated factors and get a relationship from it using K-means"
   ]
  },
  {
   "cell_type": "code",
   "execution_count": 124,
   "metadata": {},
   "outputs": [
    {
     "data": {
      "text/html": [
       "<div>\n",
       "<style scoped>\n",
       "    .dataframe tbody tr th:only-of-type {\n",
       "        vertical-align: middle;\n",
       "    }\n",
       "\n",
       "    .dataframe tbody tr th {\n",
       "        vertical-align: top;\n",
       "    }\n",
       "\n",
       "    .dataframe thead th {\n",
       "        text-align: right;\n",
       "    }\n",
       "</style>\n",
       "<table border=\"1\" class=\"dataframe\">\n",
       "  <thead>\n",
       "    <tr style=\"text-align: right;\">\n",
       "      <th></th>\n",
       "      <th>cloudCover</th>\n",
       "      <th>humidity</th>\n",
       "      <th>pressure</th>\n",
       "    </tr>\n",
       "  </thead>\n",
       "  <tbody>\n",
       "    <tr>\n",
       "      <th>0</th>\n",
       "      <td>0.79</td>\n",
       "      <td>0.95</td>\n",
       "      <td>1016.08</td>\n",
       "    </tr>\n",
       "    <tr>\n",
       "      <th>1</th>\n",
       "      <td>0.56</td>\n",
       "      <td>0.88</td>\n",
       "      <td>1007.71</td>\n",
       "    </tr>\n",
       "    <tr>\n",
       "      <th>2</th>\n",
       "      <td>0.85</td>\n",
       "      <td>0.74</td>\n",
       "      <td>1032.76</td>\n",
       "    </tr>\n",
       "    <tr>\n",
       "      <th>3</th>\n",
       "      <td>0.32</td>\n",
       "      <td>0.87</td>\n",
       "      <td>1012.12</td>\n",
       "    </tr>\n",
       "    <tr>\n",
       "      <th>4</th>\n",
       "      <td>0.37</td>\n",
       "      <td>0.80</td>\n",
       "      <td>1028.17</td>\n",
       "    </tr>\n",
       "    <tr>\n",
       "      <th>...</th>\n",
       "      <td>...</td>\n",
       "      <td>...</td>\n",
       "      <td>...</td>\n",
       "    </tr>\n",
       "    <tr>\n",
       "      <th>877</th>\n",
       "      <td>0.40</td>\n",
       "      <td>0.79</td>\n",
       "      <td>1002.10</td>\n",
       "    </tr>\n",
       "    <tr>\n",
       "      <th>878</th>\n",
       "      <td>0.32</td>\n",
       "      <td>0.74</td>\n",
       "      <td>1007.02</td>\n",
       "    </tr>\n",
       "    <tr>\n",
       "      <th>879</th>\n",
       "      <td>0.04</td>\n",
       "      <td>0.58</td>\n",
       "      <td>1022.44</td>\n",
       "    </tr>\n",
       "    <tr>\n",
       "      <th>880</th>\n",
       "      <td>0.59</td>\n",
       "      <td>0.75</td>\n",
       "      <td>994.27</td>\n",
       "    </tr>\n",
       "    <tr>\n",
       "      <th>881</th>\n",
       "      <td>0.35</td>\n",
       "      <td>0.69</td>\n",
       "      <td>988.63</td>\n",
       "    </tr>\n",
       "  </tbody>\n",
       "</table>\n",
       "<p>881 rows × 3 columns</p>\n",
       "</div>"
      ],
      "text/plain": [
       "     cloudCover  humidity  pressure\n",
       "0          0.79      0.95   1016.08\n",
       "1          0.56      0.88   1007.71\n",
       "2          0.85      0.74   1032.76\n",
       "3          0.32      0.87   1012.12\n",
       "4          0.37      0.80   1028.17\n",
       "..          ...       ...       ...\n",
       "877        0.40      0.79   1002.10\n",
       "878        0.32      0.74   1007.02\n",
       "879        0.04      0.58   1022.44\n",
       "880        0.59      0.75    994.27\n",
       "881        0.35      0.69    988.63\n",
       "\n",
       "[881 rows x 3 columns]"
      ]
     },
     "execution_count": 124,
     "metadata": {},
     "output_type": "execute_result"
    }
   ],
   "source": [
    "weather_df[[\"cloudCover\",\"humidity\",\"pressure\"]]"
   ]
  },
  {
   "cell_type": "markdown",
   "metadata": {},
   "source": [
    "### Scale all data from 0 to 1 so when clustering data, the centroids and data are normalized"
   ]
  },
  {
   "cell_type": "code",
   "execution_count": 125,
   "metadata": {},
   "outputs": [
    {
     "name": "stdout",
     "output_type": "stream",
     "text": [
      "<class 'numpy.ndarray'>\n"
     ]
    },
    {
     "data": {
      "text/html": [
       "<div>\n",
       "<style scoped>\n",
       "    .dataframe tbody tr th:only-of-type {\n",
       "        vertical-align: middle;\n",
       "    }\n",
       "\n",
       "    .dataframe tbody tr th {\n",
       "        vertical-align: top;\n",
       "    }\n",
       "\n",
       "    .dataframe thead th {\n",
       "        text-align: right;\n",
       "    }\n",
       "</style>\n",
       "<table border=\"1\" class=\"dataframe\">\n",
       "  <thead>\n",
       "    <tr style=\"text-align: right;\">\n",
       "      <th></th>\n",
       "      <th>cloudCover</th>\n",
       "      <th>humidity</th>\n",
       "      <th>pressure</th>\n",
       "    </tr>\n",
       "  </thead>\n",
       "  <tbody>\n",
       "    <tr>\n",
       "      <th>0</th>\n",
       "      <td>0.79</td>\n",
       "      <td>0.945455</td>\n",
       "      <td>0.597211</td>\n",
       "    </tr>\n",
       "    <tr>\n",
       "      <th>1</th>\n",
       "      <td>0.56</td>\n",
       "      <td>0.818182</td>\n",
       "      <td>0.461489</td>\n",
       "    </tr>\n",
       "    <tr>\n",
       "      <th>2</th>\n",
       "      <td>0.85</td>\n",
       "      <td>0.563636</td>\n",
       "      <td>0.867683</td>\n",
       "    </tr>\n",
       "    <tr>\n",
       "      <th>3</th>\n",
       "      <td>0.32</td>\n",
       "      <td>0.800000</td>\n",
       "      <td>0.532998</td>\n",
       "    </tr>\n",
       "    <tr>\n",
       "      <th>4</th>\n",
       "      <td>0.37</td>\n",
       "      <td>0.672727</td>\n",
       "      <td>0.793254</td>\n",
       "    </tr>\n",
       "    <tr>\n",
       "      <th>...</th>\n",
       "      <td>...</td>\n",
       "      <td>...</td>\n",
       "      <td>...</td>\n",
       "    </tr>\n",
       "    <tr>\n",
       "      <th>876</th>\n",
       "      <td>0.40</td>\n",
       "      <td>0.654545</td>\n",
       "      <td>0.370521</td>\n",
       "    </tr>\n",
       "    <tr>\n",
       "      <th>877</th>\n",
       "      <td>0.32</td>\n",
       "      <td>0.563636</td>\n",
       "      <td>0.450300</td>\n",
       "    </tr>\n",
       "    <tr>\n",
       "      <th>878</th>\n",
       "      <td>0.04</td>\n",
       "      <td>0.272727</td>\n",
       "      <td>0.700341</td>\n",
       "    </tr>\n",
       "    <tr>\n",
       "      <th>879</th>\n",
       "      <td>0.59</td>\n",
       "      <td>0.581818</td>\n",
       "      <td>0.243554</td>\n",
       "    </tr>\n",
       "    <tr>\n",
       "      <th>880</th>\n",
       "      <td>0.35</td>\n",
       "      <td>0.472727</td>\n",
       "      <td>0.152100</td>\n",
       "    </tr>\n",
       "  </tbody>\n",
       "</table>\n",
       "<p>881 rows × 3 columns</p>\n",
       "</div>"
      ],
      "text/plain": [
       "     cloudCover  humidity  pressure\n",
       "0          0.79  0.945455  0.597211\n",
       "1          0.56  0.818182  0.461489\n",
       "2          0.85  0.563636  0.867683\n",
       "3          0.32  0.800000  0.532998\n",
       "4          0.37  0.672727  0.793254\n",
       "..          ...       ...       ...\n",
       "876        0.40  0.654545  0.370521\n",
       "877        0.32  0.563636  0.450300\n",
       "878        0.04  0.272727  0.700341\n",
       "879        0.59  0.581818  0.243554\n",
       "880        0.35  0.472727  0.152100\n",
       "\n",
       "[881 rows x 3 columns]"
      ]
     },
     "execution_count": 125,
     "metadata": {},
     "output_type": "execute_result"
    }
   ],
   "source": [
    "scaler = MinMaxScaler(feature_range= (0,1), )\n",
    "weather_scaled = scaler.fit_transform(weather_df[[\"cloudCover\",\"humidity\",\"pressure\"]]).astype(\"float64\")\n",
    "print(type(weather_scaled))\n",
    "pd.DataFrame(weather_scaled, columns= [\"cloudCover\",\"humidity\",\"pressure\"])\n"
   ]
  },
  {
   "cell_type": "markdown",
   "metadata": {},
   "source": [
    "### Testing for best number of clusters from 2 to 14, using silhouette score and elbow method"
   ]
  },
  {
   "cell_type": "code",
   "execution_count": 126,
   "metadata": {},
   "outputs": [],
   "source": [
    "def clustering_silhouette (df):\n",
    "    \"\"\"\n",
    "    Tests posible k_mean cluster instances and scores them based on the silhouette score\n",
    "    \"\"\"\n",
    "    silscore = []\n",
    "    \n",
    "    for k in range(2,15):\n",
    "        \n",
    "        kmeans = KMeans(n_clusters=k, random_state=42, max_iter=450)\n",
    "        kmeans.fit_transform(df)\n",
    "        labels = kmeans.labels_\n",
    "        score = silhouette_score(df,labels, metric='euclidean')\n",
    "        silscore.append(score)\n",
    "        \n",
    "    return silscore"
   ]
  },
  {
   "cell_type": "code",
   "execution_count": 127,
   "metadata": {},
   "outputs": [],
   "source": [
    "def clustering_elbow (df):\n",
    "    \"\"\"\n",
    "    Tests posible k_mean cluster instances and scores them based on the silhouette score\n",
    "    \"\"\"\n",
    "    elbscore = []\n",
    "    \n",
    "    for k in range(2,15):\n",
    "        \n",
    "        kmeans = KMeans(n_clusters=k, random_state=42, max_iter=450)\n",
    "        kmeans.fit_transform(df)\n",
    "        within_cluster_sum_square = kmeans.inertia_\n",
    "        elbscore.append(within_cluster_sum_square)\n",
    "        \n",
    "    return elbscore"
   ]
  },
  {
   "cell_type": "code",
   "execution_count": 128,
   "metadata": {},
   "outputs": [
    {
     "data": {
      "text/plain": [
       "[0.3056219255554937,\n",
       " 0.29307358812207773,\n",
       " 0.2554918930720349,\n",
       " 0.25781031531279025,\n",
       " 0.2522712181551312,\n",
       " 0.24628730723333409,\n",
       " 0.25146980416388887,\n",
       " 0.25594693718711736,\n",
       " 0.2555880196218884,\n",
       " 0.24526491253250907,\n",
       " 0.2468858669372881,\n",
       " 0.24224597119398295,\n",
       " 0.24166296234709497]"
      ]
     },
     "execution_count": 128,
     "metadata": {},
     "output_type": "execute_result"
    }
   ],
   "source": [
    "silsc = clustering_silhouette(weather_scaled)\n",
    "silsc"
   ]
  },
  {
   "cell_type": "code",
   "execution_count": 129,
   "metadata": {},
   "outputs": [
    {
     "data": {
      "text/plain": [
       "[56.99556164813429,\n",
       " 43.519896827698545,\n",
       " 37.08154901327748,\n",
       " 32.30514437752927,\n",
       " 28.373467504786724,\n",
       " 25.96470843547014,\n",
       " 23.550042333793783,\n",
       " 21.76385067159211,\n",
       " 20.11503111073901,\n",
       " 19.046255824427142,\n",
       " 18.08095153968393,\n",
       " 17.1747043371201,\n",
       " 16.36353511671185]"
      ]
     },
     "execution_count": 129,
     "metadata": {},
     "output_type": "execute_result"
    }
   ],
   "source": [
    "elbsc = clustering_elbow(weather_scaled)\n",
    "elbsc"
   ]
  },
  {
   "cell_type": "code",
   "execution_count": 159,
   "metadata": {},
   "outputs": [
    {
     "data": {
      "text/plain": [
       "<matplotlib.collections.PathCollection at 0x213ad7c7b20>"
      ]
     },
     "execution_count": 159,
     "metadata": {},
     "output_type": "execute_result"
    },
    {
     "data": {
      "image/png": "[encoded data removed]",
      "text/plain": [
       "<Figure size 432x288 with 1 Axes>"
      ]
     },
     "metadata": {
      "needs_background": "light"
     },
     "output_type": "display_data"
    }
   ],
   "source": [
    "plt.scatter(range(1, 14),silsc)"
   ]
  },
  {
   "cell_type": "markdown",
   "metadata": {},
   "source": [
    "### Use k=5 clusters as elbow is around k=5"
   ]
  },
  {
   "cell_type": "code",
   "execution_count": 131,
   "metadata": {},
   "outputs": [
    {
     "data": {
      "text/plain": [
       "array([[0.18805022, 0.73017784, 0.41150915, 0.57817277, 0.34859511],\n",
       "       [0.30337768, 0.53038185, 0.25498936, 0.29333757, 0.12116133],\n",
       "       [0.29716066, 0.60133289, 0.4374496 , 0.68201775, 0.60501884],\n",
       "       ...,\n",
       "       [0.88994228, 0.29489028, 0.60237752, 0.54319367, 0.8292137 ],\n",
       "       [0.5027069 , 0.55074483, 0.44212482, 0.31059679, 0.22435056],\n",
       "       [0.73438053, 0.53313257, 0.5651405 , 0.31100545, 0.44452513]])"
      ]
     },
     "execution_count": 131,
     "metadata": {},
     "output_type": "execute_result"
    }
   ],
   "source": [
    "kmeans = KMeans(n_clusters=5, max_iter=1000, random_state=42)\n",
    "kmeans.fit_transform(weather_scaled) # gives coordinates of each point in the feature space"
   ]
  },
  {
   "cell_type": "code",
   "execution_count": 132,
   "metadata": {},
   "outputs": [],
   "source": [
    "weather_df[\"Clusters\"] = kmeans.fit(weather_scaled).labels_"
   ]
  },
  {
   "cell_type": "code",
   "execution_count": 133,
   "metadata": {},
   "outputs": [
    {
     "data": {
      "text/plain": [
       "array([0, 4, 0, 3, 2, 3, 2, 0, 3, 2, 0, 3, 4, 3, 0, 2, 3, 3, 2, 2, 3, 2,\n",
       "       3, 3, 0, 2, 0, 2, 4, 0, 2, 4, 2, 2, 4, 0, 2, 2, 0, 2, 2, 0, 3, 0,\n",
       "       0, 2, 4, 0, 3, 4, 2, 0, 3, 4, 3, 2, 2, 2, 0, 2, 3, 4, 4, 4, 4, 1,\n",
       "       2, 0, 0, 4, 2, 3, 4, 1, 0, 4, 3, 2, 1, 2, 2, 0, 3, 2, 3, 1, 2, 2,\n",
       "       1, 3, 3, 0, 1, 1, 2, 4, 4, 1, 1, 2, 2, 1, 3, 2, 2, 4, 1, 3, 0, 2,\n",
       "       1, 1, 0, 0, 0, 1, 2, 1, 1, 4, 3, 2, 1, 3, 3, 4, 4, 3, 2, 4, 1, 2,\n",
       "       2, 2, 1, 0, 3, 4, 1, 4, 2, 2, 3, 2, 3, 0, 1, 1, 4, 1, 2, 2, 2, 3,\n",
       "       2, 2, 3, 1, 4, 3, 4, 3, 1, 0, 2, 4, 4, 1, 1, 3, 3, 1, 2, 2, 2, 2,\n",
       "       0, 2, 3, 2, 2, 1, 0, 2, 1, 4, 3, 0, 4, 0, 2, 3, 1, 2, 3, 1, 4, 1,\n",
       "       1, 0, 2, 1, 2, 3, 3, 2, 2, 0, 0, 3, 4, 4, 4, 2, 1, 3, 4, 4, 2, 3,\n",
       "       1, 3, 2, 1, 3, 2, 1, 2, 2, 3, 2, 0, 0, 1, 4, 1, 2, 1, 1, 4, 0, 2,\n",
       "       2, 4, 3, 3, 4, 1, 2, 0, 3, 3, 4, 2, 0, 2, 1, 0, 1, 1, 2, 0, 2, 1,\n",
       "       1, 0, 1, 2, 4, 1, 3, 2, 2, 3, 4, 2, 2, 2, 4, 2, 2, 4, 1, 2, 1, 0,\n",
       "       2, 4, 3, 0, 0, 1, 1, 4, 4, 1, 0, 3, 3, 2, 2, 4, 4, 0, 2, 3, 4, 2,\n",
       "       1, 2, 2, 3, 1, 1, 2, 3, 2, 2, 1, 0, 2, 4, 1, 4, 2, 4, 3, 4, 4, 2,\n",
       "       1, 0, 3, 2, 0, 3, 0, 2, 1, 4, 4, 3, 1, 1, 2, 2, 3, 2, 2, 3, 0, 2,\n",
       "       2, 4, 0, 0, 3, 3, 1, 1, 4, 1, 2, 3, 3, 1, 0, 1, 1, 0, 1, 3, 4, 1,\n",
       "       4, 1, 2, 3, 0, 1, 1, 2, 2, 3, 2, 0, 1, 2, 1, 2, 4, 1, 2, 0, 2, 3,\n",
       "       0, 0, 2, 1, 2, 4, 0, 3, 2, 1, 4, 2, 1, 2, 2, 1, 4, 0, 0, 4, 2, 2,\n",
       "       0, 3, 3, 2, 4, 1, 1, 2, 1, 3, 1, 1, 1, 2, 2, 4, 2, 2, 3, 2, 1, 2,\n",
       "       2, 4, 2, 1, 1, 4, 0, 3, 0, 2, 0, 2, 1, 2, 2, 4, 4, 3, 1, 2, 2, 2,\n",
       "       1, 3, 3, 2, 1, 3, 2, 0, 4, 1, 2, 3, 4, 2, 1, 3, 0, 1, 1, 1, 2, 4,\n",
       "       0, 1, 0, 1, 1, 0, 4, 1, 0, 4, 3, 2, 0, 2, 2, 3, 2, 1, 1, 0, 2, 2,\n",
       "       2, 0, 1, 4, 3, 1, 0, 1, 1, 0, 1, 1, 1, 1, 1, 3, 2, 4, 1, 2, 4, 1,\n",
       "       4, 1, 3, 3, 1, 0, 1, 4, 4, 2, 2, 1, 4, 4, 1, 1, 1, 3, 2, 1, 2, 0,\n",
       "       0, 0, 2, 0, 3, 1, 2, 4, 4, 2, 1, 1, 1, 4, 1, 1, 0, 3, 4, 2, 4, 3,\n",
       "       2, 2, 1, 3, 4, 4, 4, 2, 0, 1, 1, 2, 1, 0, 2, 3, 0, 1, 4, 0, 2, 4,\n",
       "       4, 2, 1, 2, 4, 2, 4, 0, 1, 4, 1, 1, 1, 1, 1, 0, 1, 2, 2, 2, 4, 1,\n",
       "       1, 0, 4, 1, 0, 1, 2, 0, 2, 4, 4, 2, 4, 1, 3, 0, 2, 1, 4, 0, 3, 1,\n",
       "       2, 2, 4, 1, 0, 4, 3, 3, 2, 1, 4, 4, 4, 1, 1, 4, 2, 2, 1, 4, 1, 4,\n",
       "       2, 1, 1, 0, 2, 4, 2, 1, 0, 4, 0, 3, 3, 1, 4, 1, 3, 3, 4, 1, 1, 1,\n",
       "       1, 1, 2, 2, 4, 2, 3, 4, 2, 0, 3, 3, 4, 3, 0, 4, 2, 1, 1, 2, 0, 1,\n",
       "       1, 3, 2, 4, 0, 1, 1, 2, 4, 3, 0, 3, 2, 4, 2, 3, 1, 4, 2, 1, 0, 1,\n",
       "       2, 1, 1, 4, 2, 2, 3, 0, 0, 4, 4, 2, 2, 4, 2, 1, 0, 2, 1, 1, 1, 0,\n",
       "       4, 3, 1, 0, 0, 4, 1, 2, 3, 0, 2, 0, 1, 2, 2, 2, 3, 1, 2, 2, 4, 2,\n",
       "       3, 3, 0, 4, 3, 0, 2, 0, 2, 2, 4, 4, 2, 1, 4, 2, 4, 1, 1, 0, 3, 3,\n",
       "       2, 2, 3, 4, 3, 4, 2, 3, 3, 2, 2, 4, 3, 4, 4, 4, 2, 4, 3, 4, 3, 3,\n",
       "       3, 2, 1, 2, 4, 1, 4, 3, 4, 4, 2, 4, 3, 4, 4, 4, 1, 3, 3, 1, 2, 3,\n",
       "       4, 4, 4, 3, 3, 1, 3, 1, 1, 4, 3, 2, 3, 3, 4, 4, 1, 3, 3, 3, 4, 3,\n",
       "       4, 3, 4, 3, 4, 1, 3, 3, 1, 2, 3, 2, 2, 4, 4, 2, 1, 3, 3, 3, 1, 4,\n",
       "       3])"
      ]
     },
     "execution_count": 133,
     "metadata": {},
     "output_type": "execute_result"
    }
   ],
   "source": [
    "kmeans.predict(weather_scaled)"
   ]
  },
  {
   "cell_type": "code",
   "execution_count": 134,
   "metadata": {},
   "outputs": [],
   "source": [
    "centroids = kmeans.cluster_centers_"
   ]
  },
  {
   "cell_type": "markdown",
   "metadata": {},
   "source": [
    "### Prep for SARIMAX"
   ]
  },
  {
   "cell_type": "code",
   "execution_count": 135,
   "metadata": {},
   "outputs": [
    {
     "data": {
      "text/plain": [
       "range"
      ]
     },
     "execution_count": 135,
     "metadata": {},
     "output_type": "execute_result"
    }
   ],
   "source": [
    "p = d = q = range(0,2)\n",
    "type(q)"
   ]
  },
  {
   "cell_type": "code",
   "execution_count": 136,
   "metadata": {},
   "outputs": [
    {
     "data": {
      "text/plain": [
       "[(0, 0, 0),\n",
       " (0, 0, 1),\n",
       " (0, 1, 0),\n",
       " (0, 1, 1),\n",
       " (1, 0, 0),\n",
       " (1, 0, 1),\n",
       " (1, 1, 0),\n",
       " (1, 1, 1)]"
      ]
     },
     "execution_count": 136,
     "metadata": {},
     "output_type": "execute_result"
    }
   ],
   "source": [
    "p = d = q = range(0,2)\n",
    "pdq = list(itertools.product(p,d,q))\n",
    "pdq"
   ]
  },
  {
   "cell_type": "code",
   "execution_count": 137,
   "metadata": {},
   "outputs": [
    {
     "data": {
      "text/plain": [
       "[(0, 0, 0, 12),\n",
       " (0, 0, 1, 12),\n",
       " (0, 1, 0, 12),\n",
       " (0, 1, 1, 12),\n",
       " (1, 0, 0, 12),\n",
       " (1, 0, 1, 12),\n",
       " (1, 1, 0, 12),\n",
       " (1, 1, 1, 12)]"
      ]
     },
     "execution_count": 137,
     "metadata": {},
     "output_type": "execute_result"
    }
   ],
   "source": [
    "seasonal_pdq = [(x[0],x[1],x[2],12) for x in list(itertools.product(p,d,q))]\n",
    "seasonal_pdq"
   ]
  },
  {
   "cell_type": "code",
   "execution_count": 138,
   "metadata": {},
   "outputs": [
    {
     "data": {
      "text/plain": [
       "0     2012-12-26\n",
       "1     2012-12-25\n",
       "2     2012-08-27\n",
       "3     2012-05-06\n",
       "4     2012-04-06\n",
       "5     2012-07-05\n",
       "6     2012-09-04\n",
       "7     2012-06-04\n",
       "8     2012-02-01\n",
       "9     2013-12-26\n",
       "10    2013-12-25\n",
       "11    2013-08-26\n",
       "12    2013-05-27\n",
       "13    2013-06-05\n",
       "14    2013-01-04\n",
       "15    2013-03-29\n",
       "16    2013-01-01\n",
       "17    2014-12-26\n",
       "18    2014-12-25\n",
       "19    2014-08-25\n",
       "20    2014-05-26\n",
       "21    2014-05-05\n",
       "22    2014-04-21\n",
       "23    2014-04-18\n",
       "24    2014-01-01\n",
       "Name: Bank holidays, dtype: object"
      ]
     },
     "execution_count": 138,
     "metadata": {},
     "output_type": "execute_result"
    }
   ],
   "source": [
    "holiday_df[\"Bank holidays\"]"
   ]
  },
  {
   "cell_type": "code",
   "execution_count": 139,
   "metadata": {},
   "outputs": [],
   "source": [
    "holiday_df[\"Bank holidays\"] = pd.to_datetime(holiday_df[\"Bank holidays\"])"
   ]
  },
  {
   "cell_type": "code",
   "execution_count": 140,
   "metadata": {},
   "outputs": [
    {
     "data": {
      "text/plain": [
       "0    2012-12-26\n",
       "1    2012-12-25\n",
       "2    2012-08-27\n",
       "3    2012-05-06\n",
       "4    2012-04-06\n",
       "5    2012-07-05\n",
       "6    2012-09-04\n",
       "7    2012-06-04\n",
       "8    2012-02-01\n",
       "9    2013-12-26\n",
       "10   2013-12-25\n",
       "11   2013-08-26\n",
       "12   2013-05-27\n",
       "13   2013-06-05\n",
       "14   2013-01-04\n",
       "15   2013-03-29\n",
       "16   2013-01-01\n",
       "17   2014-12-26\n",
       "18   2014-12-25\n",
       "19   2014-08-25\n",
       "20   2014-05-26\n",
       "21   2014-05-05\n",
       "22   2014-04-21\n",
       "23   2014-04-18\n",
       "24   2014-01-01\n",
       "Name: Bank holidays, dtype: datetime64[ns]"
      ]
     },
     "execution_count": 140,
     "metadata": {},
     "output_type": "execute_result"
    }
   ],
   "source": [
    "holiday_df[\"Bank holidays\"]"
   ]
  },
  {
   "cell_type": "code",
   "execution_count": 141,
   "metadata": {},
   "outputs": [],
   "source": [
    "df_energy = df_energy.merge(weather_df, left_on=\"day\",right_on=\"time\")\n",
    "final_df = df_energy.merge(holiday_df, left_on = \"day\",right_on = \"Bank holidays\",how = 'left')\n",
    "final_df[\"holiday_id\"] = np.where(final_df['Bank holidays'].isna(),0,1)"
   ]
  },
  {
   "cell_type": "code",
   "execution_count": 142,
   "metadata": {},
   "outputs": [
    {
     "data": {
      "text/html": [
       "<div>\n",
       "<style scoped>\n",
       "    .dataframe tbody tr th:only-of-type {\n",
       "        vertical-align: middle;\n",
       "    }\n",
       "\n",
       "    .dataframe tbody tr th {\n",
       "        vertical-align: top;\n",
       "    }\n",
       "\n",
       "    .dataframe thead th {\n",
       "        text-align: right;\n",
       "    }\n",
       "</style>\n",
       "<table border=\"1\" class=\"dataframe\">\n",
       "  <thead>\n",
       "    <tr style=\"text-align: right;\">\n",
       "      <th></th>\n",
       "      <th>day</th>\n",
       "      <th>energy_sum</th>\n",
       "      <th>LCLid</th>\n",
       "      <th>energy_per_household</th>\n",
       "      <th>temperatureMax</th>\n",
       "      <th>windBearing</th>\n",
       "      <th>dewPoint</th>\n",
       "      <th>cloudCover</th>\n",
       "      <th>windSpeed</th>\n",
       "      <th>pressure</th>\n",
       "      <th>time</th>\n",
       "      <th>humidity</th>\n",
       "      <th>Clusters</th>\n",
       "      <th>Bank holidays</th>\n",
       "      <th>Type</th>\n",
       "      <th>holiday_id</th>\n",
       "    </tr>\n",
       "  </thead>\n",
       "  <tbody>\n",
       "    <tr>\n",
       "      <th>0</th>\n",
       "      <td>2011-11-23</td>\n",
       "      <td>90.385000</td>\n",
       "      <td>13</td>\n",
       "      <td>6.952692</td>\n",
       "      <td>10.36</td>\n",
       "      <td>229</td>\n",
       "      <td>6.29</td>\n",
       "      <td>0.36</td>\n",
       "      <td>2.04</td>\n",
       "      <td>1027.12</td>\n",
       "      <td>2011-11-23</td>\n",
       "      <td>0.93</td>\n",
       "      <td>2</td>\n",
       "      <td>NaT</td>\n",
       "      <td>NaN</td>\n",
       "      <td>0</td>\n",
       "    </tr>\n",
       "    <tr>\n",
       "      <th>1</th>\n",
       "      <td>2011-11-24</td>\n",
       "      <td>213.412000</td>\n",
       "      <td>25</td>\n",
       "      <td>8.536480</td>\n",
       "      <td>12.93</td>\n",
       "      <td>204</td>\n",
       "      <td>8.56</td>\n",
       "      <td>0.41</td>\n",
       "      <td>4.04</td>\n",
       "      <td>1027.22</td>\n",
       "      <td>2011-11-24</td>\n",
       "      <td>0.89</td>\n",
       "      <td>2</td>\n",
       "      <td>NaT</td>\n",
       "      <td>NaN</td>\n",
       "      <td>0</td>\n",
       "    </tr>\n",
       "    <tr>\n",
       "      <th>2</th>\n",
       "      <td>2011-11-25</td>\n",
       "      <td>303.993000</td>\n",
       "      <td>32</td>\n",
       "      <td>9.499781</td>\n",
       "      <td>13.03</td>\n",
       "      <td>243</td>\n",
       "      <td>7.24</td>\n",
       "      <td>0.48</td>\n",
       "      <td>5.02</td>\n",
       "      <td>1024.47</td>\n",
       "      <td>2011-11-25</td>\n",
       "      <td>0.79</td>\n",
       "      <td>2</td>\n",
       "      <td>NaT</td>\n",
       "      <td>NaN</td>\n",
       "      <td>0</td>\n",
       "    </tr>\n",
       "    <tr>\n",
       "      <th>3</th>\n",
       "      <td>2011-11-26</td>\n",
       "      <td>420.976000</td>\n",
       "      <td>41</td>\n",
       "      <td>10.267707</td>\n",
       "      <td>12.96</td>\n",
       "      <td>237</td>\n",
       "      <td>6.96</td>\n",
       "      <td>0.44</td>\n",
       "      <td>5.75</td>\n",
       "      <td>1025.80</td>\n",
       "      <td>2011-11-26</td>\n",
       "      <td>0.81</td>\n",
       "      <td>2</td>\n",
       "      <td>NaT</td>\n",
       "      <td>NaN</td>\n",
       "      <td>0</td>\n",
       "    </tr>\n",
       "    <tr>\n",
       "      <th>4</th>\n",
       "      <td>2011-11-27</td>\n",
       "      <td>444.883001</td>\n",
       "      <td>41</td>\n",
       "      <td>10.850805</td>\n",
       "      <td>13.54</td>\n",
       "      <td>256</td>\n",
       "      <td>5.76</td>\n",
       "      <td>0.42</td>\n",
       "      <td>5.48</td>\n",
       "      <td>1021.11</td>\n",
       "      <td>2011-11-27</td>\n",
       "      <td>0.72</td>\n",
       "      <td>2</td>\n",
       "      <td>NaT</td>\n",
       "      <td>NaN</td>\n",
       "      <td>0</td>\n",
       "    </tr>\n",
       "  </tbody>\n",
       "</table>\n",
       "</div>"
      ],
      "text/plain": [
       "         day  energy_sum  LCLid  energy_per_household  temperatureMax  \\\n",
       "0 2011-11-23   90.385000     13              6.952692           10.36   \n",
       "1 2011-11-24  213.412000     25              8.536480           12.93   \n",
       "2 2011-11-25  303.993000     32              9.499781           13.03   \n",
       "3 2011-11-26  420.976000     41             10.267707           12.96   \n",
       "4 2011-11-27  444.883001     41             10.850805           13.54   \n",
       "\n",
       "   windBearing  dewPoint  cloudCover  windSpeed  pressure       time  \\\n",
       "0          229      6.29        0.36       2.04   1027.12 2011-11-23   \n",
       "1          204      8.56        0.41       4.04   1027.22 2011-11-24   \n",
       "2          243      7.24        0.48       5.02   1024.47 2011-11-25   \n",
       "3          237      6.96        0.44       5.75   1025.80 2011-11-26   \n",
       "4          256      5.76        0.42       5.48   1021.11 2011-11-27   \n",
       "\n",
       "   humidity  Clusters Bank holidays Type  holiday_id  \n",
       "0      0.93         2           NaT  NaN           0  \n",
       "1      0.89         2           NaT  NaN           0  \n",
       "2      0.79         2           NaT  NaN           0  \n",
       "3      0.81         2           NaT  NaN           0  \n",
       "4      0.72         2           NaT  NaN           0  "
      ]
     },
     "execution_count": 142,
     "metadata": {},
     "output_type": "execute_result"
    }
   ],
   "source": [
    "final_df.head()"
   ]
  },
  {
   "cell_type": "code",
   "execution_count": 143,
   "metadata": {},
   "outputs": [],
   "source": [
    "to_drop = [\"energy_sum\",\"LCLid\",\"time\",\"Bank holidays\",\"Type\", \"windBearing\", \"dewPoint\", \"cloudCover\", \"windSpeed\", \"pressure\", \"humidity\"]\n",
    "\n",
    "final_df.drop(to_drop, axis=1, inplace=True)"
   ]
  },
  {
   "cell_type": "code",
   "execution_count": 144,
   "metadata": {},
   "outputs": [
    {
     "data": {
      "text/html": [
       "<div>\n",
       "<style scoped>\n",
       "    .dataframe tbody tr th:only-of-type {\n",
       "        vertical-align: middle;\n",
       "    }\n",
       "\n",
       "    .dataframe tbody tr th {\n",
       "        vertical-align: top;\n",
       "    }\n",
       "\n",
       "    .dataframe thead th {\n",
       "        text-align: right;\n",
       "    }\n",
       "</style>\n",
       "<table border=\"1\" class=\"dataframe\">\n",
       "  <thead>\n",
       "    <tr style=\"text-align: right;\">\n",
       "      <th></th>\n",
       "      <th>day</th>\n",
       "      <th>energy_per_household</th>\n",
       "      <th>temperatureMax</th>\n",
       "      <th>Clusters</th>\n",
       "      <th>holiday_id</th>\n",
       "    </tr>\n",
       "  </thead>\n",
       "  <tbody>\n",
       "    <tr>\n",
       "      <th>0</th>\n",
       "      <td>2011-11-23</td>\n",
       "      <td>6.952692</td>\n",
       "      <td>10.36</td>\n",
       "      <td>2</td>\n",
       "      <td>0</td>\n",
       "    </tr>\n",
       "    <tr>\n",
       "      <th>1</th>\n",
       "      <td>2011-11-24</td>\n",
       "      <td>8.536480</td>\n",
       "      <td>12.93</td>\n",
       "      <td>2</td>\n",
       "      <td>0</td>\n",
       "    </tr>\n",
       "    <tr>\n",
       "      <th>2</th>\n",
       "      <td>2011-11-25</td>\n",
       "      <td>9.499781</td>\n",
       "      <td>13.03</td>\n",
       "      <td>2</td>\n",
       "      <td>0</td>\n",
       "    </tr>\n",
       "    <tr>\n",
       "      <th>3</th>\n",
       "      <td>2011-11-26</td>\n",
       "      <td>10.267707</td>\n",
       "      <td>12.96</td>\n",
       "      <td>2</td>\n",
       "      <td>0</td>\n",
       "    </tr>\n",
       "    <tr>\n",
       "      <th>4</th>\n",
       "      <td>2011-11-27</td>\n",
       "      <td>10.850805</td>\n",
       "      <td>13.54</td>\n",
       "      <td>2</td>\n",
       "      <td>0</td>\n",
       "    </tr>\n",
       "  </tbody>\n",
       "</table>\n",
       "</div>"
      ],
      "text/plain": [
       "         day  energy_per_household  temperatureMax  Clusters  holiday_id\n",
       "0 2011-11-23              6.952692           10.36         2           0\n",
       "1 2011-11-24              8.536480           12.93         2           0\n",
       "2 2011-11-25              9.499781           13.03         2           0\n",
       "3 2011-11-26             10.267707           12.96         2           0\n",
       "4 2011-11-27             10.850805           13.54         2           0"
      ]
     },
     "execution_count": 144,
     "metadata": {},
     "output_type": "execute_result"
    }
   ],
   "source": [
    "final_df.head()"
   ]
  },
  {
   "cell_type": "code",
   "execution_count": 145,
   "metadata": {},
   "outputs": [],
   "source": [
    "def sarimax_function(endog,exog,pdq,s_pdq):\n",
    "\n",
    "    \"\"\"\n",
    "    The function uses a brute force approach to apply all possible pdq combinations and evaluate the model\n",
    "    \"\"\"\n",
    "\n",
    "    result_list = []\n",
    "    for param in pdq:\n",
    "        for s_param in s_pdq:\n",
    "\n",
    "            model = sm.tsa.statespace.SARIMAX(endog=endog,exog=exog, order=param, seasonal_order=s_param,\n",
    "            enforce_invertibility=False,enforce_stationarity=True)\n",
    "\n",
    "            results = model.fit()\n",
    "            result_list.append([param,s_param,results.aic])\n",
    "            #print(\"ARIMA Parameters: {} x: {}. AIC: {}\".format(param,s_param,results.aic))\n",
    "\n",
    "    return result_list,results"
   ]
  },
  {
   "cell_type": "markdown",
   "metadata": {},
   "source": [
    "### Train with 70% data and test with 30% data"
   ]
  },
  {
   "cell_type": "code",
   "execution_count": 146,
   "metadata": {},
   "outputs": [],
   "source": [
    "final_df.index = pd.DatetimeIndex(final_df[\"day\"]).to_period(\"D\")\n",
    "\n",
    "model_data = final_df[[\"energy_per_household\",\"temperatureMax\",\"Clusters\",\"holiday_id\"]]\n",
    "\n",
    "\n",
    "train = model_data.iloc[0:len(model_data)-30] \n",
    "test = model_data.iloc[len(train):len(model_data)]\n",
    "\n",
    "del model_data"
   ]
  },
  {
   "cell_type": "code",
   "execution_count": 147,
   "metadata": {},
   "outputs": [],
   "source": [
    "endog = train[\"energy_per_household\"]\n",
    "exog = train[[\"Clusters\",\"holiday_id\",\"temperatureMax\"]]"
   ]
  },
  {
   "cell_type": "code",
   "execution_count": 148,
   "metadata": {},
   "outputs": [
    {
     "name": "stderr",
     "output_type": "stream",
     "text": [
      "C:\\ProgramData\\Anaconda3\\lib\\site-packages\\statsmodels\\base\\model.py:566: ConvergenceWarning: Maximum Likelihood optimization failed to converge. Check mle_retvals\n",
      "  warnings.warn(\"Maximum Likelihood optimization failed to \"\n",
      "C:\\ProgramData\\Anaconda3\\lib\\site-packages\\statsmodels\\base\\model.py:566: ConvergenceWarning: Maximum Likelihood optimization failed to converge. Check mle_retvals\n",
      "  warnings.warn(\"Maximum Likelihood optimization failed to \"\n"
     ]
    }
   ],
   "source": [
    "result_list,results = sarimax_function(endog,exog,pdq,seasonal_pdq)"
   ]
  },
  {
   "cell_type": "code",
   "execution_count": 149,
   "metadata": {},
   "outputs": [
    {
     "data": {
      "text/html": [
       "<div>\n",
       "<style scoped>\n",
       "    .dataframe tbody tr th:only-of-type {\n",
       "        vertical-align: middle;\n",
       "    }\n",
       "\n",
       "    .dataframe tbody tr th {\n",
       "        vertical-align: top;\n",
       "    }\n",
       "\n",
       "    .dataframe thead th {\n",
       "        text-align: right;\n",
       "    }\n",
       "</style>\n",
       "<table border=\"1\" class=\"dataframe\">\n",
       "  <thead>\n",
       "    <tr style=\"text-align: right;\">\n",
       "      <th></th>\n",
       "      <th>dpq</th>\n",
       "      <th>s_dpq</th>\n",
       "      <th>aic</th>\n",
       "    </tr>\n",
       "  </thead>\n",
       "  <tbody>\n",
       "    <tr>\n",
       "      <th>61</th>\n",
       "      <td>(1, 1, 1)</td>\n",
       "      <td>(1, 0, 1, 12)</td>\n",
       "      <td>609.594141</td>\n",
       "    </tr>\n",
       "    <tr>\n",
       "      <th>56</th>\n",
       "      <td>(1, 1, 1)</td>\n",
       "      <td>(0, 0, 0, 12)</td>\n",
       "      <td>614.260657</td>\n",
       "    </tr>\n",
       "    <tr>\n",
       "      <th>57</th>\n",
       "      <td>(1, 1, 1)</td>\n",
       "      <td>(0, 0, 1, 12)</td>\n",
       "      <td>614.472388</td>\n",
       "    </tr>\n",
       "    <tr>\n",
       "      <th>60</th>\n",
       "      <td>(1, 1, 1)</td>\n",
       "      <td>(1, 0, 0, 12)</td>\n",
       "      <td>614.822305</td>\n",
       "    </tr>\n",
       "    <tr>\n",
       "      <th>29</th>\n",
       "      <td>(0, 1, 1)</td>\n",
       "      <td>(1, 0, 1, 12)</td>\n",
       "      <td>635.058930</td>\n",
       "    </tr>\n",
       "  </tbody>\n",
       "</table>\n",
       "</div>"
      ],
      "text/plain": [
       "          dpq          s_dpq         aic\n",
       "61  (1, 1, 1)  (1, 0, 1, 12)  609.594141\n",
       "56  (1, 1, 1)  (0, 0, 0, 12)  614.260657\n",
       "57  (1, 1, 1)  (0, 0, 1, 12)  614.472388\n",
       "60  (1, 1, 1)  (1, 0, 0, 12)  614.822305\n",
       "29  (0, 1, 1)  (1, 0, 1, 12)  635.058930"
      ]
     },
     "execution_count": 149,
     "metadata": {},
     "output_type": "execute_result"
    }
   ],
   "source": [
    "results_dataframe = pd.DataFrame(result_list, columns=[\"dpq\",\"s_dpq\",\"aic\"]).sort_values(by=\"aic\")\n",
    "results_dataframe.head()"
   ]
  },
  {
   "cell_type": "markdown",
   "metadata": {},
   "source": [
    "### Choose lowest AIC for better model"
   ]
  },
  {
   "cell_type": "code",
   "execution_count": 150,
   "metadata": {},
   "outputs": [
    {
     "name": "stdout",
     "output_type": "stream",
     "text": [
      "==================================================================================\n",
      "                     coef    std err          z      P>|z|      [0.025      0.975]\n",
      "----------------------------------------------------------------------------------\n",
      "Clusters          -0.0120      0.026     -0.463      0.643      -0.063       0.039\n",
      "holiday_id        -0.0688      0.278     -0.248      0.804      -0.613       0.476\n",
      "temperatureMax    -0.1151      0.013     -9.104      0.000      -0.140      -0.090\n",
      "ar.L1              0.4516      0.079      5.745      0.000       0.298       0.606\n",
      "ma.L1             -1.2474      0.084    -14.789      0.000      -1.413      -1.082\n",
      "ar.S.L12           0.7598      0.127      5.990      0.000       0.511       1.008\n",
      "ma.S.L12          -0.8792      0.102     -8.584      0.000      -1.080      -0.678\n",
      "sigma2             0.1863      0.029      6.390      0.000       0.129       0.243\n",
      "==================================================================================\n"
     ]
    },
    {
     "name": "stderr",
     "output_type": "stream",
     "text": [
      "C:\\ProgramData\\Anaconda3\\lib\\site-packages\\statsmodels\\base\\model.py:566: ConvergenceWarning: Maximum Likelihood optimization failed to converge. Check mle_retvals\n",
      "  warnings.warn(\"Maximum Likelihood optimization failed to \"\n"
     ]
    }
   ],
   "source": [
    "model = sm.tsa.statespace.SARIMAX(endog=endog,exog=exog, order=(1, 1, 1), seasonal_order=(1, 0, 1, 12), enforce_invertibility=False,enforce_stationarity=True).fit()\n",
    "\n",
    "print(model.summary().tables[1])"
   ]
  },
  {
   "cell_type": "markdown",
   "metadata": {},
   "source": [
    "### Test with test data"
   ]
  },
  {
   "cell_type": "code",
   "execution_count": 151,
   "metadata": {},
   "outputs": [],
   "source": [
    "exog = test[[\"Clusters\",\"holiday_id\",\"temperatureMax\"]]"
   ]
  },
  {
   "cell_type": "code",
   "execution_count": 152,
   "metadata": {},
   "outputs": [],
   "source": [
    "predict = model.predict(start = len(train),end = len(train)+len(test)-1,\n",
    "                            exog = test[[\"Clusters\",\"holiday_id\",\"temperatureMax\"]])\n",
    "\n",
    "test[\"prediction\"] = predict.values"
   ]
  },
  {
   "cell_type": "code",
   "execution_count": 153,
   "metadata": {},
   "outputs": [
    {
     "name": "stdout",
     "output_type": "stream",
     "text": [
      "4.8049544996156435\n"
     ]
    }
   ],
   "source": [
    "test[\"diff\"] = test[\"energy_per_household\"] - test[\"prediction\"]\n",
    "results = mean_squared_error(test[\"energy_per_household\"],test[\"prediction\"])\n",
    "print(results)"
   ]
  },
  {
   "cell_type": "code",
   "execution_count": 154,
   "metadata": {},
   "outputs": [
    {
     "name": "stdout",
     "output_type": "stream",
     "text": [
      "-0.6638694224798002\n"
     ]
    }
   ],
   "source": [
    "MAE = test['diff'].sum()/len(test)\n",
    "print(MAE)"
   ]
  },
  {
   "cell_type": "code",
   "execution_count": 155,
   "metadata": {},
   "outputs": [],
   "source": [
    "copy_test = test.copy()"
   ]
  },
  {
   "cell_type": "markdown",
   "metadata": {},
   "source": [
    "### Obvious anomalous result in first row"
   ]
  },
  {
   "cell_type": "code",
   "execution_count": 156,
   "metadata": {},
   "outputs": [
    {
     "data": {
      "text/html": [
       "<div>\n",
       "<style scoped>\n",
       "    .dataframe tbody tr th:only-of-type {\n",
       "        vertical-align: middle;\n",
       "    }\n",
       "\n",
       "    .dataframe tbody tr th {\n",
       "        vertical-align: top;\n",
       "    }\n",
       "\n",
       "    .dataframe thead th {\n",
       "        text-align: right;\n",
       "    }\n",
       "</style>\n",
       "<table border=\"1\" class=\"dataframe\">\n",
       "  <thead>\n",
       "    <tr style=\"text-align: right;\">\n",
       "      <th></th>\n",
       "      <th>energy_per_household</th>\n",
       "      <th>temperatureMax</th>\n",
       "      <th>Clusters</th>\n",
       "      <th>holiday_id</th>\n",
       "      <th>prediction</th>\n",
       "      <th>diff</th>\n",
       "    </tr>\n",
       "    <tr>\n",
       "      <th>day</th>\n",
       "      <th></th>\n",
       "      <th></th>\n",
       "      <th></th>\n",
       "      <th></th>\n",
       "      <th></th>\n",
       "      <th></th>\n",
       "    </tr>\n",
       "  </thead>\n",
       "  <tbody>\n",
       "    <tr>\n",
       "      <th>2014-02-28</th>\n",
       "      <td>0.208997</td>\n",
       "      <td>7.35</td>\n",
       "      <td>4</td>\n",
       "      <td>0</td>\n",
       "      <td>11.826172</td>\n",
       "      <td>-11.617175</td>\n",
       "    </tr>\n",
       "    <tr>\n",
       "      <th>2014-02-27</th>\n",
       "      <td>10.356350</td>\n",
       "      <td>10.31</td>\n",
       "      <td>3</td>\n",
       "      <td>0</td>\n",
       "      <td>11.561372</td>\n",
       "      <td>-1.205022</td>\n",
       "    </tr>\n",
       "    <tr>\n",
       "      <th>2014-02-26</th>\n",
       "      <td>10.202945</td>\n",
       "      <td>11.29</td>\n",
       "      <td>3</td>\n",
       "      <td>0</td>\n",
       "      <td>11.341837</td>\n",
       "      <td>-1.138892</td>\n",
       "    </tr>\n",
       "    <tr>\n",
       "      <th>2014-02-25</th>\n",
       "      <td>10.294997</td>\n",
       "      <td>11.43</td>\n",
       "      <td>4</td>\n",
       "      <td>0</td>\n",
       "      <td>11.359858</td>\n",
       "      <td>-1.064861</td>\n",
       "    </tr>\n",
       "    <tr>\n",
       "      <th>2014-02-21</th>\n",
       "      <td>10.518126</td>\n",
       "      <td>10.15</td>\n",
       "      <td>3</td>\n",
       "      <td>0</td>\n",
       "      <td>11.509123</td>\n",
       "      <td>-0.990997</td>\n",
       "    </tr>\n",
       "    <tr>\n",
       "      <th>2014-02-19</th>\n",
       "      <td>10.674624</td>\n",
       "      <td>10.13</td>\n",
       "      <td>4</td>\n",
       "      <td>0</td>\n",
       "      <td>11.398236</td>\n",
       "      <td>-0.723612</td>\n",
       "    </tr>\n",
       "    <tr>\n",
       "      <th>2014-02-18</th>\n",
       "      <td>10.781898</td>\n",
       "      <td>10.13</td>\n",
       "      <td>4</td>\n",
       "      <td>0</td>\n",
       "      <td>11.405452</td>\n",
       "      <td>-0.623554</td>\n",
       "    </tr>\n",
       "    <tr>\n",
       "      <th>2014-02-24</th>\n",
       "      <td>10.411403</td>\n",
       "      <td>14.23</td>\n",
       "      <td>3</td>\n",
       "      <td>0</td>\n",
       "      <td>11.030791</td>\n",
       "      <td>-0.619388</td>\n",
       "    </tr>\n",
       "    <tr>\n",
       "      <th>2014-02-03</th>\n",
       "      <td>11.280011</td>\n",
       "      <td>7.99</td>\n",
       "      <td>3</td>\n",
       "      <td>0</td>\n",
       "      <td>11.884158</td>\n",
       "      <td>-0.604147</td>\n",
       "    </tr>\n",
       "    <tr>\n",
       "      <th>2014-02-20</th>\n",
       "      <td>10.573835</td>\n",
       "      <td>12.50</td>\n",
       "      <td>4</td>\n",
       "      <td>0</td>\n",
       "      <td>11.170859</td>\n",
       "      <td>-0.597024</td>\n",
       "    </tr>\n",
       "    <tr>\n",
       "      <th>2014-02-04</th>\n",
       "      <td>11.095584</td>\n",
       "      <td>8.88</td>\n",
       "      <td>3</td>\n",
       "      <td>0</td>\n",
       "      <td>11.672046</td>\n",
       "      <td>-0.576461</td>\n",
       "    </tr>\n",
       "    <tr>\n",
       "      <th>2014-02-13</th>\n",
       "      <td>11.285737</td>\n",
       "      <td>7.37</td>\n",
       "      <td>3</td>\n",
       "      <td>0</td>\n",
       "      <td>11.844526</td>\n",
       "      <td>-0.558789</td>\n",
       "    </tr>\n",
       "    <tr>\n",
       "      <th>2014-02-22</th>\n",
       "      <td>10.776242</td>\n",
       "      <td>11.63</td>\n",
       "      <td>3</td>\n",
       "      <td>0</td>\n",
       "      <td>11.242145</td>\n",
       "      <td>-0.465903</td>\n",
       "    </tr>\n",
       "    <tr>\n",
       "      <th>2014-02-07</th>\n",
       "      <td>10.972318</td>\n",
       "      <td>9.81</td>\n",
       "      <td>4</td>\n",
       "      <td>0</td>\n",
       "      <td>11.405387</td>\n",
       "      <td>-0.433069</td>\n",
       "    </tr>\n",
       "    <tr>\n",
       "      <th>2014-02-17</th>\n",
       "      <td>10.979566</td>\n",
       "      <td>10.67</td>\n",
       "      <td>4</td>\n",
       "      <td>0</td>\n",
       "      <td>11.290469</td>\n",
       "      <td>-0.310903</td>\n",
       "    </tr>\n",
       "    <tr>\n",
       "      <th>2014-02-10</th>\n",
       "      <td>11.264175</td>\n",
       "      <td>8.78</td>\n",
       "      <td>4</td>\n",
       "      <td>0</td>\n",
       "      <td>11.529877</td>\n",
       "      <td>-0.265702</td>\n",
       "    </tr>\n",
       "    <tr>\n",
       "      <th>2014-02-11</th>\n",
       "      <td>11.452649</td>\n",
       "      <td>7.51</td>\n",
       "      <td>3</td>\n",
       "      <td>0</td>\n",
       "      <td>11.708188</td>\n",
       "      <td>-0.255539</td>\n",
       "    </tr>\n",
       "    <tr>\n",
       "      <th>2014-02-15</th>\n",
       "      <td>11.490470</td>\n",
       "      <td>9.90</td>\n",
       "      <td>3</td>\n",
       "      <td>0</td>\n",
       "      <td>11.633261</td>\n",
       "      <td>-0.142791</td>\n",
       "    </tr>\n",
       "    <tr>\n",
       "      <th>2014-01-30</th>\n",
       "      <td>11.685169</td>\n",
       "      <td>5.94</td>\n",
       "      <td>4</td>\n",
       "      <td>0</td>\n",
       "      <td>11.812706</td>\n",
       "      <td>-0.127537</td>\n",
       "    </tr>\n",
       "    <tr>\n",
       "      <th>2014-02-08</th>\n",
       "      <td>11.569300</td>\n",
       "      <td>9.13</td>\n",
       "      <td>4</td>\n",
       "      <td>0</td>\n",
       "      <td>11.543291</td>\n",
       "      <td>0.026009</td>\n",
       "    </tr>\n",
       "    <tr>\n",
       "      <th>2014-02-06</th>\n",
       "      <td>11.445403</td>\n",
       "      <td>9.81</td>\n",
       "      <td>4</td>\n",
       "      <td>0</td>\n",
       "      <td>11.414815</td>\n",
       "      <td>0.030588</td>\n",
       "    </tr>\n",
       "    <tr>\n",
       "      <th>2014-02-12</th>\n",
       "      <td>11.679099</td>\n",
       "      <td>8.83</td>\n",
       "      <td>4</td>\n",
       "      <td>0</td>\n",
       "      <td>11.639677</td>\n",
       "      <td>0.039423</td>\n",
       "    </tr>\n",
       "    <tr>\n",
       "      <th>2014-02-16</th>\n",
       "      <td>11.582159</td>\n",
       "      <td>9.98</td>\n",
       "      <td>3</td>\n",
       "      <td>0</td>\n",
       "      <td>11.540116</td>\n",
       "      <td>0.042043</td>\n",
       "    </tr>\n",
       "    <tr>\n",
       "      <th>2014-02-05</th>\n",
       "      <td>11.415105</td>\n",
       "      <td>9.64</td>\n",
       "      <td>4</td>\n",
       "      <td>0</td>\n",
       "      <td>11.364661</td>\n",
       "      <td>0.050444</td>\n",
       "    </tr>\n",
       "    <tr>\n",
       "      <th>2014-02-01</th>\n",
       "      <td>11.710582</td>\n",
       "      <td>9.72</td>\n",
       "      <td>3</td>\n",
       "      <td>0</td>\n",
       "      <td>11.574616</td>\n",
       "      <td>0.135966</td>\n",
       "    </tr>\n",
       "    <tr>\n",
       "      <th>2014-01-31</th>\n",
       "      <td>11.857957</td>\n",
       "      <td>8.83</td>\n",
       "      <td>4</td>\n",
       "      <td>0</td>\n",
       "      <td>11.624015</td>\n",
       "      <td>0.233942</td>\n",
       "    </tr>\n",
       "    <tr>\n",
       "      <th>2014-02-23</th>\n",
       "      <td>11.480411</td>\n",
       "      <td>11.94</td>\n",
       "      <td>4</td>\n",
       "      <td>0</td>\n",
       "      <td>11.209828</td>\n",
       "      <td>0.270583</td>\n",
       "    </tr>\n",
       "    <tr>\n",
       "      <th>2014-02-09</th>\n",
       "      <td>12.202967</td>\n",
       "      <td>8.18</td>\n",
       "      <td>3</td>\n",
       "      <td>0</td>\n",
       "      <td>11.738155</td>\n",
       "      <td>0.464812</td>\n",
       "    </tr>\n",
       "    <tr>\n",
       "      <th>2014-02-02</th>\n",
       "      <td>12.078164</td>\n",
       "      <td>9.30</td>\n",
       "      <td>3</td>\n",
       "      <td>0</td>\n",
       "      <td>11.546790</td>\n",
       "      <td>0.531374</td>\n",
       "    </tr>\n",
       "    <tr>\n",
       "      <th>2014-02-14</th>\n",
       "      <td>11.816914</td>\n",
       "      <td>12.02</td>\n",
       "      <td>4</td>\n",
       "      <td>0</td>\n",
       "      <td>11.236814</td>\n",
       "      <td>0.580101</td>\n",
       "    </tr>\n",
       "  </tbody>\n",
       "</table>\n",
       "</div>"
      ],
      "text/plain": [
       "            energy_per_household  temperatureMax  Clusters  holiday_id  \\\n",
       "day                                                                      \n",
       "2014-02-28              0.208997            7.35         4           0   \n",
       "2014-02-27             10.356350           10.31         3           0   \n",
       "2014-02-26             10.202945           11.29         3           0   \n",
       "2014-02-25             10.294997           11.43         4           0   \n",
       "2014-02-21             10.518126           10.15         3           0   \n",
       "2014-02-19             10.674624           10.13         4           0   \n",
       "2014-02-18             10.781898           10.13         4           0   \n",
       "2014-02-24             10.411403           14.23         3           0   \n",
       "2014-02-03             11.280011            7.99         3           0   \n",
       "2014-02-20             10.573835           12.50         4           0   \n",
       "2014-02-04             11.095584            8.88         3           0   \n",
       "2014-02-13             11.285737            7.37         3           0   \n",
       "2014-02-22             10.776242           11.63         3           0   \n",
       "2014-02-07             10.972318            9.81         4           0   \n",
       "2014-02-17             10.979566           10.67         4           0   \n",
       "2014-02-10             11.264175            8.78         4           0   \n",
       "2014-02-11             11.452649            7.51         3           0   \n",
       "2014-02-15             11.490470            9.90         3           0   \n",
       "2014-01-30             11.685169            5.94         4           0   \n",
       "2014-02-08             11.569300            9.13         4           0   \n",
       "2014-02-06             11.445403            9.81         4           0   \n",
       "2014-02-12             11.679099            8.83         4           0   \n",
       "2014-02-16             11.582159            9.98         3           0   \n",
       "2014-02-05             11.415105            9.64         4           0   \n",
       "2014-02-01             11.710582            9.72         3           0   \n",
       "2014-01-31             11.857957            8.83         4           0   \n",
       "2014-02-23             11.480411           11.94         4           0   \n",
       "2014-02-09             12.202967            8.18         3           0   \n",
       "2014-02-02             12.078164            9.30         3           0   \n",
       "2014-02-14             11.816914           12.02         4           0   \n",
       "\n",
       "            prediction       diff  \n",
       "day                                \n",
       "2014-02-28   11.826172 -11.617175  \n",
       "2014-02-27   11.561372  -1.205022  \n",
       "2014-02-26   11.341837  -1.138892  \n",
       "2014-02-25   11.359858  -1.064861  \n",
       "2014-02-21   11.509123  -0.990997  \n",
       "2014-02-19   11.398236  -0.723612  \n",
       "2014-02-18   11.405452  -0.623554  \n",
       "2014-02-24   11.030791  -0.619388  \n",
       "2014-02-03   11.884158  -0.604147  \n",
       "2014-02-20   11.170859  -0.597024  \n",
       "2014-02-04   11.672046  -0.576461  \n",
       "2014-02-13   11.844526  -0.558789  \n",
       "2014-02-22   11.242145  -0.465903  \n",
       "2014-02-07   11.405387  -0.433069  \n",
       "2014-02-17   11.290469  -0.310903  \n",
       "2014-02-10   11.529877  -0.265702  \n",
       "2014-02-11   11.708188  -0.255539  \n",
       "2014-02-15   11.633261  -0.142791  \n",
       "2014-01-30   11.812706  -0.127537  \n",
       "2014-02-08   11.543291   0.026009  \n",
       "2014-02-06   11.414815   0.030588  \n",
       "2014-02-12   11.639677   0.039423  \n",
       "2014-02-16   11.540116   0.042043  \n",
       "2014-02-05   11.364661   0.050444  \n",
       "2014-02-01   11.574616   0.135966  \n",
       "2014-01-31   11.624015   0.233942  \n",
       "2014-02-23   11.209828   0.270583  \n",
       "2014-02-09   11.738155   0.464812  \n",
       "2014-02-02   11.546790   0.531374  \n",
       "2014-02-14   11.236814   0.580101  "
      ]
     },
     "execution_count": 156,
     "metadata": {},
     "output_type": "execute_result"
    }
   ],
   "source": [
    "copy_test.sort_values(by=[\"diff\"])"
   ]
  },
  {
   "cell_type": "code",
   "execution_count": 157,
   "metadata": {},
   "outputs": [
    {
     "name": "stdout",
     "output_type": "stream",
     "text": [
      "0.3168923941688926\n"
     ]
    }
   ],
   "source": [
    "### Results without the outlier ###\n",
    "\n",
    "results = mean_squared_error(copy_test.iloc[:-1,:][\"energy_per_household\"],copy_test.iloc[:-1,:][\"prediction\"])\n",
    "print(results)"
   ]
  },
  {
   "cell_type": "code",
   "execution_count": 158,
   "metadata": {},
   "outputs": [
    {
     "name": "stdout",
     "output_type": "stream",
     "text": [
      "-0.2766302549854131\n"
     ]
    }
   ],
   "source": [
    "MAE =copy_test.iloc[:-1,:][\"diff\"].sum()/len(test)\n",
    "print(MAE)"
   ]
  },
  {
   "cell_type": "markdown",
   "metadata": {},
   "source": [
    "## Decent model to predict energy consumption give 1) max Temp, 2) Holiday, 3) cloudcover + humidity + pressure"
   ]
  }
 ],
 "metadata": {
  "interpreter": {
   "hash": "b3ba2566441a7c06988d0923437866b63cedc61552a5af99d1f4fb67d367b25f"
  },
  "kernelspec": {
   "display_name": "Python 3.9.7 64-bit ('base': conda)",
   "language": "python",
   "name": "python3"
  },
  "language_info": {
   "codemirror_mode": {
    "name": "ipython",
    "version": 3
   },
   "file_extension": ".py",
   "mimetype": "text/x-python",
   "name": "python",
   "nbconvert_exporter": "python",
   "pygments_lexer": "ipython3",
   "version": "3.9.7"
  },
  "orig_nbformat": 4
 },
 "nbformat": 4,
 "nbformat_minor": 2
}
